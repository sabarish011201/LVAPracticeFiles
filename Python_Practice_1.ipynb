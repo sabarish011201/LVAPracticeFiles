{
  "nbformat": 4,
  "nbformat_minor": 0,
  "metadata": {
    "colab": {
      "provenance": [],
      "authorship_tag": "ABX9TyPAUF0bJLIOb+M3ym/Hys62",
      "include_colab_link": true
    },
    "kernelspec": {
      "name": "python3",
      "display_name": "Python 3"
    },
    "language_info": {
      "name": "python"
    }
  },
  "cells": [
    {
      "cell_type": "markdown",
      "metadata": {
        "id": "view-in-github",
        "colab_type": "text"
      },
      "source": [
        "<a href=\"https://colab.research.google.com/github/sabarish011201/LVAPython/blob/main/Python_Practice_1.ipynb\" target=\"_parent\"><img src=\"https://colab.research.google.com/assets/colab-badge.svg\" alt=\"Open In Colab\"/></a>"
      ]
    },
    {
      "cell_type": "markdown",
      "source": [
        "1.\tDeclare an int variable and assign a signed value."
      ],
      "metadata": {
        "id": "xcNsZpgjM3zd"
      }
    },
    {
      "cell_type": "code",
      "execution_count": null,
      "metadata": {
        "id": "jbIdRaQ1bd5Y"
      },
      "outputs": [],
      "source": [
        "var_1 = -10\n",
        "print(type(var_1))\n",
        "print(var_1)"
      ]
    },
    {
      "cell_type": "markdown",
      "source": [
        "2.\tDeclare a long variable and assign a value and the values should be octal and hexadecimal."
      ],
      "metadata": {
        "id": "BULEiIY1M8Ll"
      }
    },
    {
      "cell_type": "code",
      "source": [
        "octal_value = 0o3452\n",
        "hexadecimal_value = 0xcaded\n",
        "\n",
        "print(type(0o3452))\n",
        "print(type(hexadecimal_value))\n",
        "print(\"Octal value:\", octal_value)\n",
        "print(\"Hexadecimal value:\", hexadecimal_value)\n"
      ],
      "metadata": {
        "id": "EP7DjHtqbpxS"
      },
      "execution_count": null,
      "outputs": []
    },
    {
      "cell_type": "markdown",
      "source": [
        "3.\tDeclare a float variable and assign a value and the values should be floating point real values."
      ],
      "metadata": {
        "id": "jWZMvpVAM-gt"
      }
    },
    {
      "cell_type": "code",
      "source": [
        "var_1 = 10.10\n",
        "print(type(var_1))\n",
        "print('Floating Value is',var_1)"
      ],
      "metadata": {
        "id": "86QOW7PkcaLZ"
      },
      "execution_count": null,
      "outputs": []
    },
    {
      "cell_type": "markdown",
      "source": [
        "4.\tDeclare a complex variable and assign a value and the value should be a complex number."
      ],
      "metadata": {
        "id": "IKvm8Kz-M_DM"
      }
    },
    {
      "cell_type": "code",
      "source": [
        "comp_1 = 5+1j\n",
        "print(type(comp_1))\n",
        "print(comp_1)"
      ],
      "metadata": {
        "id": "FY93917kcsyB"
      },
      "execution_count": null,
      "outputs": []
    },
    {
      "cell_type": "markdown",
      "source": [
        "5.\tDeclare int, long, float and string variables and perform multiple assignments."
      ],
      "metadata": {
        "id": "DqjARHcMM_l1"
      }
    },
    {
      "cell_type": "code",
      "source": [
        "int_1, long_1, float_1, str_1 = 10, 0xabcd, 10.2, 'Sabarish'\n",
        "print('Integer :',int_1)\n",
        "print('Long :',long_1)\n",
        "print('Float :',float_1)\n",
        "print('String :',str_1)"
      ],
      "metadata": {
        "id": "qd4b-Wq7ddQA"
      },
      "execution_count": null,
      "outputs": []
    },
    {
      "cell_type": "markdown",
      "source": [
        "6.\tDeclare, delete, and print float variables."
      ],
      "metadata": {
        "id": "k6z6O0gYM_-V"
      }
    },
    {
      "cell_type": "code",
      "source": [
        "var_1 = 10.5\n",
        "var_2 = 11.9\n",
        "del var_1\n",
        "#print(var_1) --throws error as it was deleted\n",
        "print(var_2)"
      ],
      "metadata": {
        "id": "UWF1Ak4MeFue"
      },
      "execution_count": null,
      "outputs": []
    },
    {
      "cell_type": "markdown",
      "source": [
        "8.\tDeclare a string variable and perform the following task.\n",
        "a.\tPrint complete string.\n",
        "b.\tPrint the first character of the string.\n",
        "c.\tPrint the characters starting from 3rd to 5th.\n",
        "d.\tPrint the string starting with the 3rd character.\n",
        "e.\tPrint the string two times.\n",
        "f.\tConcatenated string\n"
      ],
      "metadata": {
        "id": "mH40X4HZNAsF"
      }
    },
    {
      "cell_type": "code",
      "source": [
        "str_1 = 'Sabarish'\n",
        "print('Complete :',str_1)\n",
        "print('First Ch :',str_1[0])\n",
        "print('3-5 :',str_1[2:5])\n",
        "print('From 3ch :',str_1[2:])\n",
        "print('2times :', str_1*2)\n",
        "print('Concat :','Hello '+str_1)"
      ],
      "metadata": {
        "id": "1b3ykO17eYSU"
      },
      "execution_count": null,
      "outputs": []
    },
    {
      "cell_type": "markdown",
      "source": [
        "9.\tDeclare a list variable and perform the following task.\n",
        "a.\tPrint the complete list.\n",
        "b.\tPrint the first element of the list.\n",
        "c.\tPrint the elements list starting from 2nd till 3rd.\n",
        "d.\tPrint the elements list starting from the 3rd element.\n",
        "e.\tPrint the list two times.\n",
        "f.\tPrint the concatenated lists.\n"
      ],
      "metadata": {
        "id": "dlabOKx8NBKU"
      }
    },
    {
      "cell_type": "code",
      "source": [
        "lst_1 = ['apple',0,'banana',1,'cherry',2,'doku',3.5]\n",
        "print('Complete List :',lst_1)\n",
        "print('First Element :', lst_1[0])\n",
        "print('2-3 :',lst_1[1:3])\n",
        "print('From 3 :',lst_1[3:])\n",
        "print('2times :', lst_1*2)\n",
        "print('Concatenated :',lst_1+lst_1)"
      ],
      "metadata": {
        "id": "ZoBV8G8n6izA"
      },
      "execution_count": null,
      "outputs": []
    },
    {
      "cell_type": "markdown",
      "source": [
        "10.\tDeclare a tuple variable and perform the following task.\n",
        "a.\tPrint the complete tuple.\n",
        "b.\tPrint the first element of the tuple.\n",
        "c.\tPrint the elements tuple starting from 2nd till 3rd.\n",
        "d.\tPrint the elements tuple starting from 3rd element.\n",
        "e.\tPrint the tuple two times.\n",
        "f.\tPrint the concatenated tuple.\n"
      ],
      "metadata": {
        "id": "6_KvfnF9NBkk"
      }
    },
    {
      "cell_type": "code",
      "source": [
        "tpl_1 = ('apple',0,'banana',1,'cherry',2,'doku',3.5)\n",
        "print('Complete Tuple :',tpl_1)\n",
        "print('First Element :',tpl_1[0])\n",
        "print('2-3 :',tpl_1[1:3])\n",
        "print('From 3 :',tpl_1[3:])\n",
        "print('2times :', tpl_1*2)\n",
        "print('Concatenated :',tpl_1+tpl_1)"
      ],
      "metadata": {
        "id": "fxPSLzRt7fxX"
      },
      "execution_count": null,
      "outputs": []
    },
    {
      "cell_type": "markdown",
      "source": [
        "11.\tDeclare a dictionary variable and perform the following task.\n",
        "a.\tPrint the value for 'one' key.\n",
        "b.\tPrint the value for 2 keys.\n",
        "c.\tPrint the complete dictionary.\n",
        "d.\tPrint all the keys.\n",
        "e.\tPrint all the values.\n"
      ],
      "metadata": {
        "id": "oF83DtMKNB-d"
      }
    },
    {
      "cell_type": "code",
      "source": [
        "dict_1 = {'Sabarish':4299,'Chris':4273,'Preethi':4297,'JP':4284}\n",
        "print('Sabarish :', dict_1[\"Sabarish\"])\n",
        "\n",
        "keys = [\"Chris\",\"JP\"]\n",
        "for i in keys:\n",
        "  if i in dict_1:\n",
        "    print(i,':',dict_1[i])\n",
        "\n",
        "print('\\nComplete Dict :',dict_1)\n",
        "print('Keys :',dict_1.keys())\n",
        "print('Values :',dict_1.values())"
      ],
      "metadata": {
        "id": "q5OeDobE8Sp6"
      },
      "execution_count": null,
      "outputs": []
    },
    {
      "cell_type": "markdown",
      "source": [
        "12.\tCrete an empty set and print the type.\n",
        "\n",
        "\n",
        "\n",
        "\n"
      ],
      "metadata": {
        "id": "g4hIsHXZNCZt"
      }
    },
    {
      "cell_type": "code",
      "source": [
        "set_1 = {}\n",
        "set_1 = set()\n",
        "print(type(set_1))"
      ],
      "metadata": {
        "id": "7BJzwtz9CDGQ"
      },
      "execution_count": null,
      "outputs": []
    },
    {
      "cell_type": "markdown",
      "source": [
        "13.\tCrete a list of sets and print the content in the set."
      ],
      "metadata": {
        "id": "GYNeOuDxNC0c"
      }
    },
    {
      "cell_type": "code",
      "source": [
        "lst_1 = [{'apple','banana'},{'cherry',0},{'doku',1}]\n",
        "for i in lst_1:\n",
        "  for j in i:\n",
        "    print(j,end=\", \")"
      ],
      "metadata": {
        "id": "75xtqgMV_wvi"
      },
      "execution_count": null,
      "outputs": []
    },
    {
      "cell_type": "markdown",
      "source": [
        "14.\tCreate a list of tuples and print the content of the tuples."
      ],
      "metadata": {
        "id": "V--alUl5NDLM"
      }
    },
    {
      "cell_type": "code",
      "source": [
        "lst_1 = [('apple','banana'),('cherry',0),('doku',1)]\n",
        "for i in lst_1:\n",
        "  for j in i:\n",
        "    print(j,end=\", \")"
      ],
      "metadata": {
        "id": "0UtuPG7mDv5t"
      },
      "execution_count": null,
      "outputs": []
    },
    {
      "cell_type": "markdown",
      "source": [
        "15.\tCreate a list of dictionaries and print the content of the dictionary."
      ],
      "metadata": {
        "id": "cSlOQvxTNDo1"
      }
    },
    {
      "cell_type": "code",
      "source": [
        "lst_1 = [{'apple':0,'banana':1},{'cherry':1},{'doku':2}]\n",
        "for i in lst_1:\n",
        "  for j in i:\n",
        "    print(j,i.get(j))"
      ],
      "metadata": {
        "id": "jr-TVjmcD9cA"
      },
      "execution_count": null,
      "outputs": []
    },
    {
      "cell_type": "markdown",
      "source": [
        "16.\tCreate a list of Sets and Tuples and print them!"
      ],
      "metadata": {
        "id": "l8AIJaqONEEE"
      }
    },
    {
      "cell_type": "code",
      "source": [
        "lst_1 = [('hello','welcome'),{'mark','meta'},('elon','tesla'),{'elon','spaceX'}]\n",
        "for i in lst_1:\n",
        "  print(i)\n",
        "  for j in i:\n",
        "    print(j)"
      ],
      "metadata": {
        "id": "l0FMQYtoFckf"
      },
      "execution_count": null,
      "outputs": []
    },
    {
      "cell_type": "markdown",
      "source": [
        "17.\tCreate a list of Dictionary, Sets, and Tuples and print them."
      ],
      "metadata": {
        "id": "TbBlFS1LNEf0"
      }
    },
    {
      "cell_type": "code",
      "source": [
        "lst_1 = [{'Sabarish':4299,\"Chris\":4272},('elon','tesla'),{'elon','spaceX'}]\n",
        "for i in lst_1:\n",
        "  if isinstance(i,dict):\n",
        "    for k,v in i.items():\n",
        "      print(k,':',v)\n",
        "  else:\n",
        "    for j in i:\n",
        "      print(j)\n"
      ],
      "metadata": {
        "id": "UIsXBKFmHYkz"
      },
      "execution_count": null,
      "outputs": []
    },
    {
      "cell_type": "markdown",
      "source": [
        "20.\tResearch and develop some examples in the Google Colab for the following.\n",
        "a.\tData Type Conversion\n",
        "i.\tData Type Conversion\n",
        "ii.\tfloat(x) - Converts x to a floating-point number.\n",
        "iii.\tstr(x) - Converts object x to a string representation.\n",
        "iv.\ttuple(s) - Converts s to a tuple.\n",
        "v.\tlist(s) - Converts s to a list.\n",
        "vi.\tchr(x) - Converts an integer to a character.\n",
        "vii.\tdict(d) - Creates a dictionary. d must be a sequence of (key,value) tuples.\n"
      ],
      "metadata": {
        "id": "bFeYSeecNE2e"
      }
    },
    {
      "cell_type": "code",
      "source": [
        "x = 10\n",
        "print('Float :',float(x))\n",
        "print('String :',str(x))\n",
        "\n",
        "tpl_1 = ('elon','tesla')\n",
        "set_1 = {'elon','spaceX'}\n",
        "lst_1 = list(tpl_1)\n",
        "lst_2 = list(set_1)\n",
        "print('List_1 :',lst_1)\n",
        "print('List_2 :',lst_2)\n",
        "print('Tuple :',tuple(lst_2))\n",
        "print('Set :',set(lst_1))"
      ],
      "metadata": {
        "id": "0YMTARs2KEIA"
      },
      "execution_count": null,
      "outputs": []
    }
  ]
}