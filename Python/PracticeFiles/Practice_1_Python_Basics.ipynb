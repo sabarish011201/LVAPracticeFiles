{
  "nbformat": 4,
  "nbformat_minor": 0,
  "metadata": {
    "colab": {
      "provenance": [],
      "include_colab_link": true
    },
    "kernelspec": {
      "name": "python3",
      "display_name": "Python 3"
    },
    "language_info": {
      "name": "python"
    }
  },
  "cells": [
    {
      "cell_type": "markdown",
      "metadata": {
        "id": "view-in-github",
        "colab_type": "text"
      },
      "source": [
        "<a href=\"https://colab.research.google.com/github/sabarish011201/LVAPython/blob/main/Python/PracticeFiles/Practice_1_Python_Basics.ipynb\" target=\"_parent\"><img src=\"https://colab.research.google.com/assets/colab-badge.svg\" alt=\"Open In Colab\"/></a>"
      ]
    },
    {
      "cell_type": "markdown",
      "source": [
        "**Question 1:**\n",
        "\n",
        "A weather forecasting company wants to store daily temperature data for different cities.\n",
        "Develop a Python program to prompt users to input temperature data for multiple cities and store it in appropriate variables."
      ],
      "metadata": {
        "id": "__AjJ41SybLc"
      }
    },
    {
      "cell_type": "code",
      "source": [
        "temp_data = {}\n",
        "while 1:\n",
        "  city = input(\"Enter a city name (type end to break) : \")\n",
        "  if city.lower()=='end':\n",
        "    break\n",
        "\n",
        "  temp = int(input(f\"Enter temperature of {city} : \"))\n",
        "  temp_data[city] = temp\n",
        "\n",
        "print('\\nCity Temperature')\n",
        "for city,temp in temp_data.items():\n",
        "  print(f'{city} : {temp}°C')\n",
        "\n"
      ],
      "metadata": {
        "id": "W-xhiD-B2ZtL"
      },
      "execution_count": null,
      "outputs": []
    },
    {
      "cell_type": "markdown",
      "source": [
        "**Question 2:**\n",
        " A gaming company is developing a character creation system for their new role-playing game. Develop a Python program that allows users to input characteristics such as name, race, class, and abilities for their characters."
      ],
      "metadata": {
        "id": "3VGBYQEfKYBA"
      }
    },
    {
      "cell_type": "markdown",
      "source": [
        "**Question 3:**\n",
        "You are organizing a school event where students will be asked to sign up using a form.Write a Python program that prompts the user to enter their name, age, and grade, and then prints a welcome message including their name and an appropriate message based on their age and grade.\n"
      ],
      "metadata": {
        "id": "sCV9rC3YCt9C"
      }
    },
    {
      "cell_type": "markdown",
      "source": [
        "**Question 4:**\n",
        "You are managing inventory for a small store. Write a Python program that simulates adding items to a shopping cart. Allow the user to input the item name, quantity, and price, and then calculate the total cost of the items in the cart."
      ],
      "metadata": {
        "id": "jtSomzgoyQO9"
      }
    },
    {
      "cell_type": "markdown",
      "source": [
        "**Question 5:**\n",
        "A music streaming service wants to create personalized playlists for users based on their favorite genres and artists. Develop a Python program that uses lists and dictionaries to store user preferences and recommend songs accordingly.\n"
      ],
      "metadata": {
        "id": "JQxoLKZXDO-B"
      }
    },
    {
      "cell_type": "markdown",
      "source": [
        "**Question 6:**\n",
        "A logistics company needs to track the inventory levels of different products in multiple warehouses. Develop a Python program that uses nested dictionaries to represent warehouse inventory data and allows users to update and retrieve information.\n"
      ],
      "metadata": {
        "id": "hgg43ZyxDwmt"
      }
    },
    {
      "cell_type": "markdown",
      "source": [
        "**Question 7:**\n",
        "You are organizing a team-building activity for a group of students. Write a Python program that randomly assigns students to teams of 3. Ensure that each team has an equal number of members, and print out the list of teams with their members.\n"
      ],
      "metadata": {
        "id": "KIKOrOSTD-EU"
      }
    },
    {
      "cell_type": "markdown",
      "source": [
        "**Question 8:**\n",
        "You are building a password manager application. Write a Python program that stores passwords for different accounts in a dictionary, where the keys are the account names and the values are the passwords. Allow the user to add, retrieve, and delete passwords.\n"
      ],
      "metadata": {
        "id": "JIp7dNH3EJwV"
      }
    },
    {
      "cell_type": "markdown",
      "source": [
        "**Question 9:**\n",
        "A fitness app wants to calculate the user's body mass index (BMI) based on their weight and height. Develop a Python program that prompts users to input their weight (in kilograms) and height (in meters) and calculates their BMI using arithmetic operators.\n"
      ],
      "metadata": {
        "id": "CUsHHfNOFlq5"
      }
    },
    {
      "cell_type": "markdown",
      "source": [
        "**Question 10:**\n",
        "A financial institution wants to calculate compound interest for different investment accounts. Develop a Python program that prompts users to input the principal amount, interest rate, and time period, and calculates the compound interest using arithmetic operators.\n"
      ],
      "metadata": {
        "id": "qkqAJc6zF76J"
      }
    },
    {
      "cell_type": "markdown",
      "source": [
        "**Question 11:**\n",
        "You are designing a game where players roll two dice and sum the results. Write a Python program that simulates rolling two dice and calculates the sum. Allow the user to roll the dice multiple times and display the results.\n"
      ],
      "metadata": {
        "id": "mpJPLo9uGFi3"
      }
    },
    {
      "cell_type": "markdown",
      "source": [
        "**Question 12:**\n",
        "You are developing a program to calculate shipping costs for an online store. Write a Python program that prompts the user to enter the weight of their package and the distance it needs to be shipped. Calculate the shipping cost based on a flat rate per pound and a per-mile charge.\n"
      ],
      "metadata": {
        "id": "SrK5QaMwGH3x"
      }
    },
    {
      "cell_type": "markdown",
      "source": [
        "**Question 13:**\n",
        "An e-commerce platform wants to offer discounts on purchases during a sale event. Develop a Python program that applies different discount rates based on the total purchase amount and displays the final price after applying the discount."
      ],
      "metadata": {
        "id": "9bCsaRuAGIeY"
      }
    },
    {
      "cell_type": "markdown",
      "source": [
        "**Question 14:**\n",
        "A game developer wants to implement a scoring system for a multiplayer game. Develop a Python program that calculates the total score for each player based on their performance in the game and determines the winner.\n"
      ],
      "metadata": {
        "id": "SYgqNFYSGJAr"
      }
    },
    {
      "cell_type": "markdown",
      "source": [
        "**Question 15:**\n",
        "A restaurant offers different discounts based on the time of day. Write a Python program that prompts the user for the current time and calculates the appropriate discount based on the following criteria: 10% discount for breakfast (before 10 AM), 20% discount for lunch (between 12 PM and 3 PM), and 15% discount for dinner (after 6 PM). Display the calculated discount to the user.\n"
      ],
      "metadata": {
        "id": "DItKa9JTGJX-"
      }
    },
    {
      "cell_type": "markdown",
      "source": [
        "**Question 16:**\n",
        "You are organizing a tournament with a single-elimination format. Write a Python program that takes a list of participants and randomly generates the matchups for each round. Print out the matchups for each round until a winner is determined.\n"
      ],
      "metadata": {
        "id": "vINzwcxgGJ1s"
      }
    },
    {
      "cell_type": "markdown",
      "source": [
        "**Question 17:**\n",
        "A data analysis company wants to perform statistical analysis on a dataset containing sales data. Develop a Python program that defines functions for calculating the mean, median, and standard deviation of the dataset and uses them to analyze the data.\n"
      ],
      "metadata": {
        "id": "dargzT41GKMQ"
      }
    },
    {
      "cell_type": "markdown",
      "source": [
        "**Question 18:**\n",
        "A social media platform wants to implement user authentication and authorization functionality. Develop a Python program that defines functions for user login, registration, and access control, and uses them to manage user accounts.\n"
      ],
      "metadata": {
        "id": "UUiONungGKmN"
      }
    },
    {
      "cell_type": "markdown",
      "source": [
        "**Question 19:**\n",
        "You are building a calculator application with various mathematical functions. Write a Python program that defines functions for addition, subtraction, multiplication, and division. Allow the user to choose a function and input the numbers to perform the calculation.\n"
      ],
      "metadata": {
        "id": "K4PIKyVpGLB0"
      }
    },
    {
      "cell_type": "markdown",
      "source": [
        "**Question 20:**\n",
        "A company is organizing a team-building exercise where employees will participate in various activities. Write a Python program to randomly assign employees to teams for each activity, ensuring that each team has an equal number of members.\n",
        "\n"
      ],
      "metadata": {
        "id": "fDUl1UN4GLcB"
      }
    },
    {
      "cell_type": "markdown",
      "source": [
        "**Question 21:**\n",
        "A ticket booking system encounters errors when processing user requests due to invalid input. Develop a Python program that handles errors such as invalid ticket quantities, incorrect payment information, and expired sessions.\n"
      ],
      "metadata": {
        "id": "77dn1GcaGL2k"
      }
    },
    {
      "cell_type": "markdown",
      "source": [
        "**Question 22:**\n",
        "A data processing pipeline encounters errors when reading and writing data files due to file permissions and network issues. Develop a Python program that handles errors such as file not found, permission denied, and connection timeout."
      ],
      "metadata": {
        "id": "1WNO235CGMTG"
      }
    },
    {
      "cell_type": "markdown",
      "source": [
        "**Question 23:**\n",
        "A bank is developing an ATM system. Develop a Python program that simulates withdrawing money from an ATM. Handle errors such as insufficient funds, incorrect PIN entry, and invalid withdrawal amounts. Display appropriate error messages to the user and allow them to retry or cancel the transaction.\n"
      ],
      "metadata": {
        "id": "hVKnUvWPGMs2"
      }
    },
    {
      "cell_type": "markdown",
      "source": [
        "**Question 24:**\n",
        " A small business wants to track inventory using a text file. Write a Python program that allows users to input item details, display all inventory records, and calculate the total value of the inventory.\n",
        "\n",
        "Challenge:\n",
        "\n",
        "Ensure that the program handles input errors gracefully and provides clear feedback to the user in case of invalid input."
      ],
      "metadata": {
        "id": "Umq17pi1GNJB"
      }
    },
    {
      "cell_type": "markdown",
      "source": [
        "**Question 25:**\n",
        "A scientific research project generates experimental data that needs to be stored in files for analysis. Develop a Python program that writes experimental data to text files, including metadata such as timestamps and experiment parameters.\n"
      ],
      "metadata": {
        "id": "bB1ErviJGNhm"
      }
    },
    {
      "cell_type": "markdown",
      "source": [
        "**Question 26:**\n",
        "A research institute collects data from experiments conducted by scientists. Develop a Python program that reads experimental data from a text file, performs basic analysis (e.g., calculating averages, finding maximum values), and saves the results to an output file. Allow users to specify the input and output file paths.\n"
      ],
      "metadata": {
        "id": "Q5BpPjjJGN8y"
      }
    },
    {
      "cell_type": "markdown",
      "source": [
        "**Question 27:**\n",
        "An online bookstore wants to manage information about books, including title, author, genre, and price. Develop a Python program that defines a Book class with attributes and methods for managing book data.\n"
      ],
      "metadata": {
        "id": "2vz_6Ws5GOW5"
      }
    },
    {
      "cell_type": "markdown",
      "source": [
        "**Question 28:**\n",
        "A car rental company wants to track information about rental vehicles, including make, model, year, and availability. Develop a Python program that defines a Car class with attributes and methods for managing rental vehicles.\n"
      ],
      "metadata": {
        "id": "LBV3T7_CGOx1"
      }
    },
    {
      "cell_type": "markdown",
      "source": [
        "**Question 29:**\n",
        "Suppose you're building an online shopping platform. How would you implement an operator-based discount system that applies different discount rates based on the total purchase amount? Provide a Python code snippet to calculate the discounted price for a given purchase amount."
      ],
      "metadata": {
        "id": "_IdaHJHcGPLs"
      }
    },
    {
      "cell_type": "markdown",
      "source": [
        "**Question 30:**\n",
        "A travel agency wants to automate the process of booking flights for customers. Develop a Python program that prompts users to input travel preferences, searches for available flights, and generates booking confirmations.\n"
      ],
      "metadata": {
        "id": "5dkMmxGaGPlT"
      }
    },
    {
      "cell_type": "markdown",
      "source": [
        "**Question 31:**\n",
        "You're developing a program to analyze user comments on a social media platform. How would you handle the storage of user comments, considering that each comment may contain a mix of text, emojis, and hashtags? Recommend a Python data type or combination of data types to efficiently store this heterogeneous data and provide an example of how you would parse and process a sample comment."
      ],
      "metadata": {
        "id": "rB7naZbNGP94"
      }
    },
    {
      "cell_type": "markdown",
      "source": [
        "**Question 32:**\n",
        "You're tasked with designing a program to track financial transactions for a small business. Each transaction includes details such as transaction type (e.g., sale, expense), amount, and date. How would you structure the data to efficiently perform operations like calculating total revenue, expenses, and profit? Recommend a Python data type or structure and outline the process for storing and analyzing transaction data."
      ],
      "metadata": {
        "id": "rDwA6JYSOhLr"
      }
    },
    {
      "cell_type": "markdown",
      "source": [
        "**Question 33:**\n",
        "You're designing a smart home system where certain appliances are activated based on environmental conditions. How would you use bitwise operators to represent different sensor readings (e.g., temperature, humidity, light intensity) and trigger specific actions based on predefined thresholds? Provide a Python code snippet to illustrate this concept."
      ],
      "metadata": {
        "id": "dRSY_FaYOrnR"
      }
    },
    {
      "cell_type": "markdown",
      "source": [
        "**Question 34:**\n",
        "You're developing a program to encrypt and decrypt text messages using a custom encryption algorithm. How would you use bitwise XOR (^) operator to perform encryption and decryption operations on the message? Provide a Python code snippet to encrypt and decrypt a sample message."
      ],
      "metadata": {
        "id": "5UeEELToO48i"
      }
    },
    {
      "cell_type": "markdown",
      "source": [
        "**Question:35**\n",
        "You're developing a language translation service that supports multiple languages. Each translation request consists of a source language, target language, and the text to be translated. How would you organize this information to handle translation requests efficiently? Recommend a Python data type or structure to manage translation requests and provide a sample code snippet to process a translation request."
      ],
      "metadata": {
        "id": "34eAkuWSnSgu"
      }
    }
  ]
}